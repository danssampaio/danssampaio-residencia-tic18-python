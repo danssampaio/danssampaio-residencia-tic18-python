{
 "cells": [
  {
   "cell_type": "markdown",
   "metadata": {},
   "source": [
    "# Python Básico - P001\n",
    "\n",
    "----------------------------------------------------\n",
    "## Exercício 02:\n",
    "----------------------------------------------------\n",
    "\n",
    "## Operadores aritméticos \n",
    "Em Python, os operadores aritméticos funcionam de forma parecida ao C++.\n",
    "A diferênças são pontuadas com a divisão de inteiros que produz um número de ponto flutuante, \n",
    "e a capacidade de representar inteiros muito grandes sem preocupações com bug's, por exemplo. \n",
    "\n",
    "### Seguem exemplos de utilização:\n",
    "\n",
    "- Operadores aritméticos:"
   ]
  },
  {
   "cell_type": "code",
   "execution_count": null,
   "metadata": {},
   "outputs": [],
   "source": [
    "a = 10\n",
    "b = 3\n",
    "\n",
    "soma = a + b\n",
    "subtracao = a - b\n",
    "multiplicacao = a * b\n",
    "divisao = a / b  \n",
    "divisao_inteira = a // b\n",
    "resto = a % b\n",
    "potencia = a ** b\n",
    "\n",
    "print(soma)  \n",
    "print(subtracao)  \n",
    "print(multiplicacao)  \n",
    "print(divisao)  \n",
    "print(divisao_inteira) \n",
    "print(resto) \n",
    "print(potencia)"
   ]
  },
  {
   "cell_type": "markdown",
   "metadata": {},
   "source": [
    "### Operadores compostos"
   ]
  },
  {
   "cell_type": "code",
   "execution_count": null,
   "metadata": {},
   "outputs": [],
   "source": [
    "c = 5\n",
    "c += 2\n",
    "print(c)  "
   ]
  },
  {
   "cell_type": "markdown",
   "metadata": {},
   "source": [
    "Podemos resentar números inteiros muito grande sem apresentar problemas (como em C++)."
   ]
  },
  {
   "cell_type": "code",
   "execution_count": null,
   "metadata": {},
   "outputs": [],
   "source": [
    "import math\n",
    "\n",
    "fatorial_30 = math.factorial(30)\n",
    "print(fatorial_30)"
   ]
  },
  {
   "cell_type": "markdown",
   "metadata": {},
   "source": [
    "Em Python as variáveis numéricas são imutáveis - uma vez criadas, elas não podem ser modificadas. \n",
    "\n",
    "Como no Exemplo abaixo:"
   ]
  },
  {
   "cell_type": "code",
   "execution_count": null,
   "metadata": {},
   "outputs": [],
   "source": [
    "a = 5\n",
    "b = a \n",
    "a = 10  \n",
    "print(b)  "
   ]
  },
  {
   "cell_type": "markdown",
   "metadata": {},
   "source": [
    "## Métodos Disponíveis para Variáveis Inteiras:\n",
    "Variáveis inteiras em Python pertencem à classe int,\n",
    "Elas têm métodos associados a elas. \n",
    "\n",
    "Seguem alguns exemplos de métodos disponíveis:"
   ]
  },
  {
   "cell_type": "code",
   "execution_count": null,
   "metadata": {},
   "outputs": [],
   "source": [
    "x = 42\n",
    "\n",
    "str_x = str(x)\n",
    "print(str_x) \n",
    "\n",
    "is_even = x % 2 == 0\n",
    "print(is_even) \n",
    "\n",
    "abs_x = abs(x)\n",
    "print(abs_x) \n",
    "\n",
    "size_in_bytes = x.bit_length() // 8\n",
    "print(size_in_bytes)  \n",
    "\n",
    "hex_x = hex(x)\n",
    "print(hex_x)  \n",
    "\n",
    "bin_x = bin(x)\n",
    "print(bin_x)  \n",
    "\n",
    "oct_x = oct(x)\n",
    "print(oct_x)  \n",
    "\n",
    "is_odd = x.__bool__()  \n",
    "print(is_odd)  \n",
    "\n",
    "y = 30\n",
    "max_value = x.__max__(y)\n",
    "print(max_value)  \n",
    "\n",
    "min_value = x.__min__(y)\n",
    "print(min_value)  \n",
    "\n",
    "rounded_up = x.__ceil__()\n",
    "print(rounded_up)  \n",
    "\n",
    "rounded_down = x.__floor__()\n",
    "print(rounded_down)  \n",
    "\n",
    "is_negative = x.__neg__()  \n",
    "print(is_negative)  \n"
   ]
  },
  {
   "cell_type": "markdown",
   "metadata": {},
   "source": [
    "### Diferenças em Relação a C/C++:\n",
    "\n",
    "- Em Python, não há necessidade de declarar o tipo de variável antes de usá-la. A inferência de tipo é feita automaticamente.\n",
    "- Python suporta precisão arbitrária para inteiros, enquanto em C/C++, o tamanho dos inteiros é limitado pelo tipo de dado.\n",
    "- Python suporta divisão de inteiros resultando em ponto flutuante por padrão (/), enquanto em C/C++ é necessário usar casting ou converter pelo menos um dos operandos para ponto flutuante.\n",
    "-  Python oferece maior flexibilidade e simplicidade em comparação com as declarações de tipo estritas encontradas em C/C++.\n",
    "\n"
   ]
  },
  {
   "cell_type": "markdown",
   "metadata": {},
   "source": [
    "----------------------------------------------------\n",
    "## Exercício 03:\n",
    "----------------------------------------------------\n",
    "\n",
    "Ao executar o programa a seguir, ele irá imprimir os caracteres numéricos ('0' a '9'), seus códigos numéricos, códigos em octal e códigos em hexadecimal. \n",
    "Além disso, o programa permitirá que o usuário insira um caractere e imprima suas informações da mesma forma.\n",
    "\n",
    "Por fim, ele também inclui exemplos de caracteres especiais (por exemplo:'ç' e 'ã') para demonstrar como o programa pode lidar com esses tipos de caracteres nesta linguagem. \n",
    "Poderemos observar que Python 3 utiliza Unicode por padrão, o que facilita o manuseio de caracteres especiais."
   ]
  },
  {
   "cell_type": "code",
   "execution_count": null,
   "metadata": {},
   "outputs": [],
   "source": [
    "\n",
    "def imprimir_caractere_e_codigo(caractere):\n",
    "    codigo_decimal = ord(caractere)\n",
    "    codigo_octal = oct(codigo_decimal)\n",
    "    codigo_hexadecimal = hex(codigo_decimal)\n",
    "    \n",
    "    print(f\"'{caractere}' - Decimal: {codigo_decimal}, Octal: {codigo_octal}, Hexadecimal: {codigo_hexadecimal}\")\n",
    "\n",
    "\n",
    "print(\"Caracteres numéricos:\")\n",
    "for i in range(10):\n",
    "    imprimir_caractere_e_codigo(str(i))\n",
    "\n",
    "\n",
    "caractere_usuario = input(\"Digite um caractere: \")\n",
    "imprimir_caractere_e_codigo(caractere_usuario)\n",
    "\n",
    "\n",
    "caractere_especial1 = 'ç'\n",
    "caractere_especial2 = 'ã'\n",
    "\n",
    "imprimir_caractere_e_codigo(caractere_especial1)\n",
    "imprimir_caractere_e_codigo(caractere_especial2)\n"
   ]
  },
  {
   "cell_type": "markdown",
   "metadata": {},
   "source": [
    "----------------------------------------------------\n",
    "## Exercício 04:\n",
    "----------------------------------------------------\n",
    "\n",
    " O código a seguir utiliza as funcionalidades básicas de strings em Python para realizar as operações solicitadas no exercício:"
   ]
  },
  {
   "cell_type": "code",
   "execution_count": null,
   "metadata": {},
   "outputs": [],
   "source": [
    "nome_completo = \"João da Silva\"\n",
    "\n",
    "nome_e_sobrenome = nome_completo.split()\n",
    "nome = nome_e_sobrenome[0]\n",
    "sobrenome = nome_e_sobrenome[-1]\n",
    "\n",
    "if nome < sobrenome:\n",
    "    ordem_alfabetica = f\"{nome} antecede {sobrenome}\"\n",
    "elif nome > sobrenome:\n",
    "    ordem_alfabetica = f\"{sobrenome} antecede {nome}\"\n",
    "else:\n",
    "    ordem_alfabetica = f\"{nome} e {sobrenome} são iguais na ordem alfabética\"\n",
    "\n",
    "tamanho_nome = len(nome)\n",
    "tamanho_sobrenome = len(sobrenome)\n",
    "\n",
    "e_palindromo = nome.lower() == nome.lower()[::-1]\n",
    "\n",
    "print(f\"Nome completo: {nome_completo}\")\n",
    "print(f\"Nome: {nome}\")\n",
    "print(f\"Sobrenome: {sobrenome}\")\n",
    "print(f\"Ordem alfabética: {ordem_alfabetica}\")\n",
    "print(f\"Tamanho do nome: {tamanho_nome} caracteres\")\n",
    "print(f\"Tamanho do sobrenome: {tamanho_sobrenome} caracteres\")\n",
    "print(f\"{nome} é um palíndromo: {e_palindromo}\")\n"
   ]
  },
  {
   "cell_type": "markdown",
   "metadata": {},
   "source": [
    "----------------------------------------------------\n",
    "## Exercício 05:\n",
    "----------------------------------------------------\n",
    "\n",
    "Em python. os operadores aritméticos e aritméticos compostos funcionam da mesma forma que em outros tipos numéricos. \n",
    "\n",
    "Seguem alguns exemplos dos muitos métodos disponíveis para variáveis de ponto flutuante: \n"
   ]
  },
  {
   "cell_type": "code",
   "execution_count": null,
   "metadata": {},
   "outputs": [],
   "source": [
    "a = 5.0\n",
    "b = 2.0\n",
    "\n",
    "soma = a + b\n",
    "subtracao = a - b\n",
    "multiplicacao = a * b\n",
    "divisao = a / b\n",
    "\n",
    "print(f\"Soma: {soma}\")\n",
    "print(f\"Subtração: {subtracao}\")\n",
    "print(f\"Multiplicação: {multiplicacao}\")\n",
    "print(f\"Divisão: {divisao}\")\n",
    "\n",
    "a += 1\n",
    "b *= 2\n",
    "\n",
    "print(f\"Valor de 'a' após incremento: {a}\")\n",
    "print(f\"Valor de 'b' após multiplicação: {b}\")\n"
   ]
  },
  {
   "cell_type": "markdown",
   "metadata": {},
   "source": [
    "Maior e Menor Potência de 2 Representável com Variáveis de Ponto Flutuante:"
   ]
  },
  {
   "cell_type": "code",
   "execution_count": null,
   "metadata": {},
   "outputs": [],
   "source": [
    "\n",
    "maior_potencia = 2.0 ** 1023\n",
    "print(f\"Maior Potência de 2 representável: {maior_potencia}\")\n",
    "\n",
    "\n",
    "menor_potencia = 2.0 ** -1022\n",
    "print(f\"Menor Potência de 2 representável: {menor_potencia}\")\n"
   ]
  },
  {
   "cell_type": "markdown",
   "metadata": {},
   "source": [
    "Variáveis Numéricas são Imutáveis:\n",
    "\n",
    "Variáveis numéricas em Python são imutáveis. Isso significa que, ao atribuir um novo valor a uma variável, você cria uma nova referência na memória. O valor original não é modificado. "
   ]
  },
  {
   "cell_type": "code",
   "execution_count": null,
   "metadata": {},
   "outputs": [],
   "source": [
    "x = 10.0\n",
    "y = x\n",
    "x = 20.0\n",
    "\n",
    "print(f\"Valor de x: {x}\")\n",
    "print(f\"Valor de y (não afetado pela mudança em x): {y}\")\n"
   ]
  },
  {
   "cell_type": "markdown",
   "metadata": {},
   "source": [
    "Métodos Disponíveis para Variáveis de Ponto Flutuante:\n",
    "\n",
    "As variáveis de ponto flutuante em Python têm alguns métodos disponíveis. Alguns dos métodos mais comuns incluem:\n",
    "\n",
    "- as_integer_ratio(): Retorna a representação como uma fração.\n",
    "- is_integer(): Retorna True se o valor for um inteiro, caso contrário, retorna False.\n",
    "- hex(): Retorna uma string representando a notação hexadecimal do número."
   ]
  },
  {
   "cell_type": "code",
   "execution_count": null,
   "metadata": {},
   "outputs": [],
   "source": [
    "numero = 3.14\n",
    "\n",
    "fracao = numero.as_integer_ratio()\n",
    "inteiro = numero.is_integer()\n",
    "hexadecimal = numero.hex()\n",
    "\n",
    "print(f\"Representação como fração: {fracao}\")\n",
    "print(f\"É um número inteiro: {inteiro}\")\n",
    "print(f\"Notação hexadecimal: {hexadecimal}\")\n"
   ]
  },
  {
   "cell_type": "markdown",
   "metadata": {},
   "source": [
    "----------------------------------------------------\n",
    "## Exercício 06:\n",
    "----------------------------------------------------"
   ]
  },
  {
   "cell_type": "code",
   "execution_count": null,
   "metadata": {},
   "outputs": [],
   "source": [
    "L = [1,2,3,4,5,6,7,8,9]\n",
    "print(L[::-1])\n",
    "print(L[-1::])\n",
    "print(L[:-1:])\n",
    "print(L[::-2])\n",
    "print(L[-2::])\n",
    "print(L[:-2:])"
   ]
  },
  {
   "cell_type": "code",
   "execution_count": null,
   "metadata": {},
   "outputs": [],
   "source": [
    "L = [\n",
    "    \"Macaco\",\n",
    "    \"Galo\",\n",
    "    \"Cão\",\n",
    "    \"Porco\",\n",
    "    \"Rato\",\n",
    "    \"Boi\",\n",
    "    \"Tigre\",\n",
    "    \"Coelho\",\n",
    "    \"Dragão\",\n",
    "    \"Serpete\",\n",
    "    \"Cavalo\",\n",
    "    \"Carneiro\",\n",
    "]\n",
    "\n",
    "ano = int(input(\"Digite seu ano de nascimento(YYYY): \"))\n",
    "\n",
    "signo = (\n",
    "    L[0] if ano % 12 == 0 else\n",
    "    L[1] if ano % 12 == 1 else\n",
    "    L[2] if ano % 12 == 2 else\n",
    "    L[3] if ano % 12 == 3 else\n",
    "    L[4] if ano % 12 == 4 else\n",
    "    L[5] if ano % 12 == 5 else\n",
    "    L[6] if ano % 12 == 6 else\n",
    "    L[7] if ano % 12 == 7 else\n",
    "    L[8] if ano % 12 == 8 else\n",
    "    L[9] if ano % 12 == 9 else\n",
    "    L[10] if ano % 12 == 10 else\n",
    "    L[11]\n",
    ")\n",
    "\n",
    "print(f\"Seu signo chinês é {signo}\")\n"
   ]
  }
 ],
 "metadata": {
  "kernelspec": {
   "display_name": "Python 3",
   "language": "python",
   "name": "python3"
  },
  "language_info": {
   "name": "python",
   "version": "3.10.12"
  }
 },
 "nbformat": 4,
 "nbformat_minor": 2
}
